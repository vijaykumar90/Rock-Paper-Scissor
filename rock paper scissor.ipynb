{
 "cells": [
  {
   "cell_type": "markdown",
   "metadata": {},
   "source": [
    "# IMPORTING LIBRARIES\n"
   ]
  },
  {
   "cell_type": "code",
   "execution_count": 33,
   "metadata": {},
   "outputs": [],
   "source": [
    "import random as rd"
   ]
  },
  {
   "cell_type": "markdown",
   "metadata": {},
   "source": [
    "# Setting numbers to rock paper and scissor"
   ]
  },
  {
   "cell_type": "code",
   "execution_count": 39,
   "metadata": {},
   "outputs": [],
   "source": [
    "def choose_opt(number):\n",
    "    if number==3:\n",
    "        return 'SCISSOR'\n",
    "    elif number==2:\n",
    "        return 'PAPER'\n",
    "    else:\n",
    "        return 'ROCK'"
   ]
  },
  {
   "cell_type": "markdown",
   "metadata": {},
   "source": [
    "# The Game logic"
   ]
  },
  {
   "cell_type": "code",
   "execution_count": 35,
   "metadata": {},
   "outputs": [],
   "source": [
    "def rps(player, cpu):\n",
    "    \n",
    "    \n",
    "    \n",
    "    if player==3 and cpu==2:\n",
    "        player_opt=choose_opt(player)\n",
    "        cpu_opt=choose_opt(cpu)\n",
    "        print('You chose '+player_opt+'\\n'+'Computer chose '+cpu_opt)\n",
    "        print('Player won the round')\n",
    "        return 'Player'\n",
    "    elif player==2 and cpu==3:\n",
    "        player_opt=choose_opt(player)\n",
    "        cpu_opt=choose_opt(cpu)\n",
    "        print('You chose '+player_opt+'\\n'+'Computer chose '+cpu_opt)\n",
    "        print('Computer won the round')\n",
    "        return 'Computer'\n",
    "    elif player==2 and cpu==1:\n",
    "        player_opt=choose_opt(player)\n",
    "        cpu_opt=choose_opt(cpu)\n",
    "        print('You chose '+player_opt+'\\n'+'Computer chose '+cpu_opt)\n",
    "        print('Player won the round')\n",
    "        return 'Player'\n",
    "    elif player==1 and cpu==2:\n",
    "        player_opt=choose_opt(player)\n",
    "        cpu_opt=choose_opt(cpu)\n",
    "        print('You chose '+player_opt+'\\n'+'Computer chose '+cpu_opt)\n",
    "        print('Computer won the round')\n",
    "        return 'Computer'\n",
    "    elif player==1 and cpu==3:\n",
    "        player_opt=choose_opt(player)\n",
    "        cpu_opt=choose_opt(cpu)\n",
    "        print('You chose '+player_opt+'\\n'+'Computer chose '+cpu_opt)\n",
    "        print('Player won the round')\n",
    "        return 'Player'\n",
    "    elif player==3 and cpu==1:\n",
    "        player_opt=choose_opt(player)\n",
    "        cpu_opt=choose_opt(cpu)\n",
    "        print('You chose '+player_opt+'\\n'+'Computer chose '+cpu_opt)\n",
    "        print('Computer won the round')\n",
    "        return 'Computer'\n",
    "    else:\n",
    "        player_opt=choose_opt(player)\n",
    "        cpu_opt=choose_opt(cpu)\n",
    "        print('You chose '+player_opt+'\\n'+'Computer chose '+cpu_opt)\n",
    "        print('The match is draw')\n",
    "        return 'Player and Computer'\n",
    "        \n",
    "        "
   ]
  },
  {
   "cell_type": "markdown",
   "metadata": {},
   "source": [
    "# The real code combing logic of the game\n"
   ]
  },
  {
   "cell_type": "code",
   "execution_count": 36,
   "metadata": {},
   "outputs": [],
   "source": [
    "no_games=1\n",
    "overall={\n",
    "            'Player':0,\n",
    "            'Computer':0\n",
    "        }\n",
    "def real_game():\n",
    "    global no_games\n",
    "    global overall\n",
    "    print('Please choose 1 for rock'+'\\n'+'Please choose 2 for paper'+'\\n'+'Please choose 3 for scissor')\n",
    "\n",
    "\n",
    "    while no_games<4:\n",
    "        cpu=rd.randint(1,3)\n",
    "        #print('Please choose 1 for rock'+'\\n'+'Please choose 2 for paper'+'\\n'+'Please choose 3 for scissor')\n",
    "        player= int(input('Choose between 1, 2 and 3'))\n",
    "\n",
    "        \n",
    "        if player in [1,2,3]:\n",
    "            print('------------------------')\n",
    "            print('>>>Round '+str(no_games))\n",
    "            key_status=rps(player,cpu)\n",
    "            if key_status in ['Player','Computer']:\n",
    "                overall[key_status]+=1\n",
    "            else:\n",
    "                pass\n",
    "                    \n",
    "        else:\n",
    "            print('-----------------------------------------------------')\n",
    "            print('You typed wrong number, Please choose number between [1,2,3]')\n",
    "            print('--------------------------------------------------')\n",
    "            real_game()\n",
    "            \n",
    "        no_games+=1\n",
    "            \n",
    "    \n",
    "        \n",
    "       "
   ]
  },
  {
   "cell_type": "markdown",
   "metadata": {},
   "source": [
    "# FINAL PHASE"
   ]
  },
  {
   "cell_type": "code",
   "execution_count": 37,
   "metadata": {},
   "outputs": [],
   "source": [
    "def final_phase():\n",
    "    real_game()\n",
    "    vall=list(overall.values())\n",
    "    if vall[0]!=vall[1]:\n",
    "        if max(vall) is vall[0]:\n",
    "            print('Player won the series against PC')\n",
    "        else:\n",
    "            print('PC won the series against Player')\n",
    "    else:\n",
    "        print('The series is WHITEWASH')"
   ]
  },
  {
   "cell_type": "code",
   "execution_count": 38,
   "metadata": {},
   "outputs": [
    {
     "name": "stdout",
     "output_type": "stream",
     "text": [
      "Please choose 1 for rock\n",
      "Please choose 2 for paper\n",
      "Please choose 3 for scissor\n",
      "Choose between 1, 2 and 34\n",
      "-----------------------------------------------------\n",
      "You typed wrong number, Please choose number between [1,2,3]\n",
      "--------------------------------------------------\n",
      "Please choose 1 for rock\n",
      "Please choose 2 for paper\n",
      "Please choose 3 for scissor\n",
      "Choose between 1, 2 and 33\n",
      "------------------------\n",
      ">>>Round 1\n",
      "You chose SCISSOR\n",
      "Computer chose PAPER\n",
      "Player won the round\n",
      "Choose between 1, 2 and 32\n",
      "------------------------\n",
      ">>>Round 2\n",
      "You chose PAPER\n",
      "Computer chose PAPER\n",
      "The match is draw\n",
      "Choose between 1, 2 and 31\n",
      "------------------------\n",
      ">>>Round 3\n",
      "You chose ROCK\n",
      "Computer chose SCISSOR\n",
      "Player won the round\n",
      "Player won the series against PC\n"
     ]
    }
   ],
   "source": [
    "final_phase()"
   ]
  },
  {
   "cell_type": "code",
   "execution_count": null,
   "metadata": {},
   "outputs": [],
   "source": []
  }
 ],
 "metadata": {
  "kernelspec": {
   "display_name": "Python 3",
   "language": "python",
   "name": "python3"
  },
  "language_info": {
   "codemirror_mode": {
    "name": "ipython",
    "version": 3
   },
   "file_extension": ".py",
   "mimetype": "text/x-python",
   "name": "python",
   "nbconvert_exporter": "python",
   "pygments_lexer": "ipython3",
   "version": "3.7.4"
  }
 },
 "nbformat": 4,
 "nbformat_minor": 2
}
